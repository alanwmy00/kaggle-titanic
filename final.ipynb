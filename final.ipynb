{
 "cells": [
  {
   "cell_type": "code",
   "execution_count": 1,
   "id": "9b7f4f3b",
   "metadata": {},
   "outputs": [],
   "source": [
    "import numpy as np\n",
    "import pandas as pd\n",
    "\n",
    "from sklearn.linear_model import LinearRegression\n",
    "from sklearn.preprocessing import FunctionTransformer\n",
    "from sklearn.preprocessing import OneHotEncoder\n",
    "from sklearn.pipeline import Pipeline\n",
    "from sklearn.compose import ColumnTransformer\n",
    "\n",
    "from sklearn.tree import DecisionTreeRegressor\n",
    "from sklearn.model_selection import train_test_split\n",
    "from sklearn.neighbors import KNeighborsRegressor\n",
    "from sklearn.model_selection import train_test_split\n",
    "from sklearn.tree import DecisionTreeRegressor\n",
    "from sklearn.model_selection import train_test_split\n",
    "from sklearn.neighbors import KNeighborsRegressor\n",
    "from sklearn.model_selection import train_test_split\n",
    "from sklearn.tree import DecisionTreeClassifier\n",
    "from sklearn.neighbors import KNeighborsRegressor\n",
    "from sklearn.ensemble import RandomForestClassifier\n",
    "from sklearn.decomposition import PCA\n",
    "from sklearn.model_selection import GridSearchCV\n",
    "from sklearn.base import BaseEstimator, TransformerMixin"
   ]
  },
  {
   "cell_type": "code",
   "execution_count": 2,
   "id": "9fa331cf-46fb-4403-a7ff-ceb3850d9e00",
   "metadata": {},
   "outputs": [],
   "source": [
    "class StdScalerByGroup(BaseEstimator, TransformerMixin):\n",
    "    \n",
    "    def __init__(self):\n",
    "        pass\n",
    "\n",
    "    def fit(self, X, y=None):\n",
    "        # X may not be a pandas dataframe (e.g. a np.array)\n",
    "        df = pd.DataFrame(X)\n",
    "        \n",
    "        # A dictionary of means/standard-deviations for each column, for each group.\n",
    "        dict_out = {}\n",
    "        for i in set(df[df.columns[0]]):\n",
    "            dict_mid = {}\n",
    "            temp = df[df[df. columns[0]] == i]\n",
    "            for j in (temp.columns[1:]):\n",
    "                dict_in = {\"mean\": temp[j].mean(), \"std\": temp.std()[j]}\n",
    "                dict_mid[j] = dict_in\n",
    "            dict_out[i] = dict_mid\n",
    "        self.grps_ = dict_out\n",
    "\n",
    "        return self\n",
    "\n",
    "    def transform(self, X, y=None):\n",
    "        try:\n",
    "            getattr(self, \"grps_\")\n",
    "        except AttributeError:\n",
    "            raise RuntimeError(\"You must fit the transformer before tranforming the data!\")\n",
    "        \n",
    "        # Define a helper function here?\n",
    "        def hell0(a,b, col):\n",
    "            return (b - self.grps_[a][col][\"mean\"]) / self.grps_[a][col][\"std\"]\n",
    "        # X may not be a dataframe (e.g. np.array)\n",
    "\n",
    "        df = pd.DataFrame(X)\n",
    "        res = pd.DataFrame()\n",
    "        for i in df.columns[1:]:\n",
    "            res[i] = list(map(hell0, np.array(df[df.columns[0]]), np.array(df[i]), [i] * len(df[i])))\n",
    "        return res"
   ]
  },
  {
   "cell_type": "code",
   "execution_count": 3,
   "id": "d87c048d",
   "metadata": {},
   "outputs": [
    {
     "data": {
      "text/html": [
       "<div>\n",
       "<style scoped>\n",
       "    .dataframe tbody tr th:only-of-type {\n",
       "        vertical-align: middle;\n",
       "    }\n",
       "\n",
       "    .dataframe tbody tr th {\n",
       "        vertical-align: top;\n",
       "    }\n",
       "\n",
       "    .dataframe thead th {\n",
       "        text-align: right;\n",
       "    }\n",
       "</style>\n",
       "<table border=\"1\" class=\"dataframe\">\n",
       "  <thead>\n",
       "    <tr style=\"text-align: right;\">\n",
       "      <th></th>\n",
       "      <th>PassengerId</th>\n",
       "      <th>Survived</th>\n",
       "      <th>Pclass</th>\n",
       "      <th>Name</th>\n",
       "      <th>Sex</th>\n",
       "      <th>Age</th>\n",
       "      <th>SibSp</th>\n",
       "      <th>Parch</th>\n",
       "      <th>Ticket</th>\n",
       "      <th>Fare</th>\n",
       "      <th>Cabin</th>\n",
       "      <th>Embarked</th>\n",
       "    </tr>\n",
       "  </thead>\n",
       "  <tbody>\n",
       "    <tr>\n",
       "      <th>0</th>\n",
       "      <td>1</td>\n",
       "      <td>0</td>\n",
       "      <td>3</td>\n",
       "      <td>Braund, Mr. Owen Harris</td>\n",
       "      <td>male</td>\n",
       "      <td>22.0</td>\n",
       "      <td>1</td>\n",
       "      <td>0</td>\n",
       "      <td>A/5 21171</td>\n",
       "      <td>7.2500</td>\n",
       "      <td>NaN</td>\n",
       "      <td>S</td>\n",
       "    </tr>\n",
       "    <tr>\n",
       "      <th>1</th>\n",
       "      <td>2</td>\n",
       "      <td>1</td>\n",
       "      <td>1</td>\n",
       "      <td>Cumings, Mrs. John Bradley (Florence Briggs Th...</td>\n",
       "      <td>female</td>\n",
       "      <td>38.0</td>\n",
       "      <td>1</td>\n",
       "      <td>0</td>\n",
       "      <td>PC 17599</td>\n",
       "      <td>71.2833</td>\n",
       "      <td>C85</td>\n",
       "      <td>C</td>\n",
       "    </tr>\n",
       "    <tr>\n",
       "      <th>2</th>\n",
       "      <td>3</td>\n",
       "      <td>1</td>\n",
       "      <td>3</td>\n",
       "      <td>Heikkinen, Miss. Laina</td>\n",
       "      <td>female</td>\n",
       "      <td>26.0</td>\n",
       "      <td>0</td>\n",
       "      <td>0</td>\n",
       "      <td>STON/O2. 3101282</td>\n",
       "      <td>7.9250</td>\n",
       "      <td>NaN</td>\n",
       "      <td>S</td>\n",
       "    </tr>\n",
       "    <tr>\n",
       "      <th>3</th>\n",
       "      <td>4</td>\n",
       "      <td>1</td>\n",
       "      <td>1</td>\n",
       "      <td>Futrelle, Mrs. Jacques Heath (Lily May Peel)</td>\n",
       "      <td>female</td>\n",
       "      <td>35.0</td>\n",
       "      <td>1</td>\n",
       "      <td>0</td>\n",
       "      <td>113803</td>\n",
       "      <td>53.1000</td>\n",
       "      <td>C123</td>\n",
       "      <td>S</td>\n",
       "    </tr>\n",
       "    <tr>\n",
       "      <th>4</th>\n",
       "      <td>5</td>\n",
       "      <td>0</td>\n",
       "      <td>3</td>\n",
       "      <td>Allen, Mr. William Henry</td>\n",
       "      <td>male</td>\n",
       "      <td>35.0</td>\n",
       "      <td>0</td>\n",
       "      <td>0</td>\n",
       "      <td>373450</td>\n",
       "      <td>8.0500</td>\n",
       "      <td>NaN</td>\n",
       "      <td>S</td>\n",
       "    </tr>\n",
       "  </tbody>\n",
       "</table>\n",
       "</div>"
      ],
      "text/plain": [
       "   PassengerId  Survived  Pclass  \\\n",
       "0            1         0       3   \n",
       "1            2         1       1   \n",
       "2            3         1       3   \n",
       "3            4         1       1   \n",
       "4            5         0       3   \n",
       "\n",
       "                                                Name     Sex   Age  SibSp  \\\n",
       "0                            Braund, Mr. Owen Harris    male  22.0      1   \n",
       "1  Cumings, Mrs. John Bradley (Florence Briggs Th...  female  38.0      1   \n",
       "2                             Heikkinen, Miss. Laina  female  26.0      0   \n",
       "3       Futrelle, Mrs. Jacques Heath (Lily May Peel)  female  35.0      1   \n",
       "4                           Allen, Mr. William Henry    male  35.0      0   \n",
       "\n",
       "   Parch            Ticket     Fare Cabin Embarked  \n",
       "0      0         A/5 21171   7.2500   NaN        S  \n",
       "1      0          PC 17599  71.2833   C85        C  \n",
       "2      0  STON/O2. 3101282   7.9250   NaN        S  \n",
       "3      0            113803  53.1000  C123        S  \n",
       "4      0            373450   8.0500   NaN        S  "
      ]
     },
     "execution_count": 3,
     "metadata": {},
     "output_type": "execute_result"
    }
   ],
   "source": [
    "df = pd.read_csv(\"train.csv\")\n",
    "df.head()"
   ]
  },
  {
   "cell_type": "code",
   "execution_count": 19,
   "id": "0f87a0ff-43bf-4b3a-801c-f52e200b2bdf",
   "metadata": {},
   "outputs": [],
   "source": [
    "df = pd.read_csv(\"train.csv\")\n",
    "df[\"Name\"] = df.Name.apply(lambda x: x.split(\", \")[1].split(\".\")[0] if x is not np.NaN else \"NAN\")\n",
    "df[\"Age\"] = df.Age.fillna(df.Age.mean())\n",
    "df[\"Age\"] = df[\"Age\"].apply(lambda x: int(x))\n",
    "df[\"Cabin\"] = df.Cabin.fillna(\"NAN\")\n",
    "df.head()\n",
    "\n",
    "df_men = df[df.Sex == \"male\"]\n",
    "x_train_men = df_men.drop(\"PassengerId Sex Survived Ticket\".split(), axis = 1)\n",
    "y_train_men = df_men.Survived\n",
    "\n",
    "df_women = df[df.Sex == \"female\"]\n",
    "x_train_women = df_women.drop(\"PassengerId Sex Survived Ticket\".split(), axis = 1)\n",
    "y_train_women = df_women.Survived"
   ]
  },
  {
   "cell_type": "code",
   "execution_count": 63,
   "id": "72596f85-d1e0-47d2-9e2b-e9527e0e613f",
   "metadata": {
    "tags": []
   },
   "outputs": [],
   "source": [
    "pl_men = Pipeline([('col_trans', ColumnTransformer([(\"age-stdScaler\", StdScalerByGroup(), [\"Pclass\", \"Age\"]), (\"sex-one-hot\", OneHotEncoder(drop = 'first', handle_unknown= 'ignore'), [\"Name\", \"Cabin\", \"Embarked\"])], remainder = \"passthrough\")), ('DTC', DecisionTreeClassifier(max_depth = 3))])\n",
    "pl_women = Pipeline([('col_trans', ColumnTransformer([(\"age-stdScaler\", StdScalerByGroup(), [\"Pclass\", \"Age\"]), (\"sex-one-hot\", OneHotEncoder(drop = 'first', handle_unknown= 'ignore'), [\"Name\", \"Cabin\", \"Embarked\"])], remainder = \"passthrough\")), ('DTC', DecisionTreeClassifier(max_depth = 3))])"
   ]
  },
  {
   "cell_type": "code",
   "execution_count": 64,
   "id": "6073a5e9-9026-44c7-9fd1-27fa5779d1f8",
   "metadata": {
    "tags": []
   },
   "outputs": [
    {
     "data": {
      "text/plain": [
       "0.8509532062391681"
      ]
     },
     "execution_count": 64,
     "metadata": {},
     "output_type": "execute_result"
    }
   ],
   "source": [
    "pl_men.fit(x_train_men, y_train_men)\n",
    "pl_men.score(x_train_men, y_train_men)"
   ]
  },
  {
   "cell_type": "code",
   "execution_count": 65,
   "id": "61e093c7-c707-4add-8752-9a104af3e5c7",
   "metadata": {},
   "outputs": [
    {
     "data": {
      "text/plain": [
       "0.8152866242038217"
      ]
     },
     "execution_count": 65,
     "metadata": {},
     "output_type": "execute_result"
    }
   ],
   "source": [
    "pl_women.fit(x_train_women, y_train_women)\n",
    "pl_women.score(x_train_women, y_train_women)"
   ]
  },
  {
   "cell_type": "code",
   "execution_count": 66,
   "id": "94a47a49-f922-47b8-8697-56f5c0b21328",
   "metadata": {},
   "outputs": [],
   "source": [
    "df_test = pd.read_csv(\"test.csv\")\n",
    "df_test[\"Name\"] = df_test.Name.apply(lambda x: x.split(\", \")[1].split(\".\")[0] if x is not np.NaN else \"NAN\")\n",
    "df_test[\"Age\"] = df_test.Age.fillna(df_test.Age.mean())\n",
    "df_test[\"Age\"] = df_test[\"Age\"].apply(lambda x: int(x))\n",
    "df_test[\"Cabin\"] = df_test.Cabin.fillna(\"NAN\")\n",
    "df_test[\"Fare\"] = df_test.Fare.fillna(df_test.Fare.mean())"
   ]
  },
  {
   "cell_type": "code",
   "execution_count": 67,
   "id": "51ab441d",
   "metadata": {},
   "outputs": [],
   "source": [
    "df_test_men = df_test[df_test.Sex == \"male\"]\n",
    "x_test_men = df_test_men.drop(\"PassengerId Sex Ticket\".split(), axis = 1)\n",
    "\n",
    "df_test_women = df_test[df_test.Sex == \"female\"]\n",
    "x_test_women = df_test_women.drop(\"PassengerId Sex Ticket\".split(), axis = 1)"
   ]
  },
  {
   "cell_type": "code",
   "execution_count": 68,
   "id": "0c9e2572",
   "metadata": {},
   "outputs": [
    {
     "data": {
      "text/plain": [
       "0       892\n",
       "2       894\n",
       "3       895\n",
       "5       897\n",
       "7       899\n",
       "       ... \n",
       "407    1299\n",
       "413    1305\n",
       "415    1307\n",
       "416    1308\n",
       "417    1309\n",
       "Name: PassengerId, Length: 266, dtype: int64"
      ]
     },
     "execution_count": 68,
     "metadata": {},
     "output_type": "execute_result"
    }
   ],
   "source": [
    "df_test_men.PassengerId"
   ]
  },
  {
   "cell_type": "code",
   "execution_count": 69,
   "id": "7709fec3",
   "metadata": {
    "scrolled": true
   },
   "outputs": [
    {
     "name": "stderr",
     "output_type": "stream",
     "text": [
      "C:\\Users\\wmy\\AppData\\Local\\Programs\\Python\\Python38\\lib\\site-packages\\sklearn\\preprocessing\\_encoders.py:170: UserWarning: Found unknown categories in columns [1] during transform. These unknown categories will be encoded as all zeros\n",
      "  warnings.warn(\n",
      "C:\\Users\\wmy\\AppData\\Local\\Programs\\Python\\Python38\\lib\\site-packages\\sklearn\\preprocessing\\_encoders.py:170: UserWarning: Found unknown categories in columns [0, 1] during transform. These unknown categories will be encoded as all zeros\n",
      "  warnings.warn(\n"
     ]
    }
   ],
   "source": [
    "men_sur = dict(zip(df_test_men.PassengerId, pl_men.predict(df_test_men)))\n",
    "women_sur = dict(zip(df_test_women.PassengerId, pl_women.predict(df_test_women)))"
   ]
  },
  {
   "cell_type": "code",
   "execution_count": 70,
   "id": "c6f1dd1a-c351-41fd-b11b-7b6f43656d81",
   "metadata": {},
   "outputs": [
    {
     "data": {
      "text/html": [
       "<div>\n",
       "<style scoped>\n",
       "    .dataframe tbody tr th:only-of-type {\n",
       "        vertical-align: middle;\n",
       "    }\n",
       "\n",
       "    .dataframe tbody tr th {\n",
       "        vertical-align: top;\n",
       "    }\n",
       "\n",
       "    .dataframe thead th {\n",
       "        text-align: right;\n",
       "    }\n",
       "</style>\n",
       "<table border=\"1\" class=\"dataframe\">\n",
       "  <thead>\n",
       "    <tr style=\"text-align: right;\">\n",
       "      <th></th>\n",
       "      <th>PassengerId</th>\n",
       "      <th>Survived</th>\n",
       "    </tr>\n",
       "  </thead>\n",
       "  <tbody>\n",
       "    <tr>\n",
       "      <th>0</th>\n",
       "      <td>892</td>\n",
       "      <td>0</td>\n",
       "    </tr>\n",
       "    <tr>\n",
       "      <th>1</th>\n",
       "      <td>893</td>\n",
       "      <td>1</td>\n",
       "    </tr>\n",
       "    <tr>\n",
       "      <th>2</th>\n",
       "      <td>894</td>\n",
       "      <td>0</td>\n",
       "    </tr>\n",
       "    <tr>\n",
       "      <th>3</th>\n",
       "      <td>895</td>\n",
       "      <td>0</td>\n",
       "    </tr>\n",
       "    <tr>\n",
       "      <th>4</th>\n",
       "      <td>896</td>\n",
       "      <td>1</td>\n",
       "    </tr>\n",
       "  </tbody>\n",
       "</table>\n",
       "</div>"
      ],
      "text/plain": [
       "   PassengerId  Survived\n",
       "0          892         0\n",
       "1          893         1\n",
       "2          894         0\n",
       "3          895         0\n",
       "4          896         1"
      ]
     },
     "execution_count": 70,
     "metadata": {},
     "output_type": "execute_result"
    }
   ],
   "source": [
    "res = pd.DataFrame()\n",
    "res[\"PassengerId\"] = df_test.PassengerId\n",
    "res[\"Survived\"] = [men_sur[df_test.PassengerId.iloc[i]] if df_test.Sex.iloc[i] == 'male' else women_sur[df_test.PassengerId.iloc[i]] for i in range(df_test.shape[0])]\n",
    "res.head()"
   ]
  },
  {
   "cell_type": "code",
   "execution_count": 71,
   "id": "24f8ca94-2b71-4c12-b1b1-db0e944b09ad",
   "metadata": {},
   "outputs": [],
   "source": [
    "res.to_csv(\"res.csv\")"
   ]
  },
  {
   "cell_type": "code",
   "execution_count": null,
   "id": "d6a62cfe",
   "metadata": {},
   "outputs": [],
   "source": []
  }
 ],
 "metadata": {
  "kernelspec": {
   "display_name": "Python 3 (ipykernel)",
   "language": "python",
   "name": "python3"
  },
  "language_info": {
   "codemirror_mode": {
    "name": "ipython",
    "version": 3
   },
   "file_extension": ".py",
   "mimetype": "text/x-python",
   "name": "python",
   "nbconvert_exporter": "python",
   "pygments_lexer": "ipython3",
   "version": "3.8.5"
  }
 },
 "nbformat": 4,
 "nbformat_minor": 5
}
